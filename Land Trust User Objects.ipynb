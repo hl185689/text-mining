{
 "cells": [
  {
   "cell_type": "code",
   "execution_count": 1,
   "metadata": {},
   "outputs": [],
   "source": [
    "from datetime import datetime\n",
    "import json\n",
    "from pprint import pprint\n",
    "\n",
    "from twitter_functions import * # these are the functions John.\n",
    "from screennames import * # this is where the screenname list lives"
   ]
  },
  {
   "cell_type": "code",
   "execution_count": 2,
   "metadata": {},
   "outputs": [],
   "source": [
    "#from twitter_config import *\n",
    "\n",
    "auth =  { \"consumer_key\": \"dOiK1BSTdNi78yXmjilGO4BKt\",\n",
    "          \"consumer_secret\": \"pkm1sYnmiFNNKm7DW7MKO7joAjP9arFsQbtZmqOxYKIpTErcVp\",\n",
    "          \"access_key\": \"2983095891-PZ4vsMs9vPDHoselDM3gUZtCIHZoMmk5IkkRXo9\",\n",
    "          \"access_secret\": \"Soqu4Dgvz6ytTO4Ly2VWIVcMJ99YNtwnqM0S8GBn6YQpx\"\n",
    "        }\n",
    "\n",
    "api = initialize_twitter(auth)"
   ]
  },
  {
   "cell_type": "code",
   "execution_count": 3,
   "metadata": {},
   "outputs": [],
   "source": [
    "users = screen_name_list\n",
    "\n",
    "ofile_name = (datetime.today().strftime(\"%Y%m%d\") + \"_\" + \n",
    "             'landtrusts' + \"_\" +\n",
    "             \"userobj.txt\")"
   ]
  },
  {
   "cell_type": "code",
   "execution_count": 4,
   "metadata": {},
   "outputs": [
    {
     "name": "stdout",
     "output_type": "stream",
     "text": [
      "Start lookup_users_from_ids on 381 handles.\n",
      "20191130-204502: looking up user records for 100 handles.\n",
      "20191130-204503: looking up user records for 100 handles.\n",
      "20191130-204503: looking up user records for 100 handles.\n",
      "20191130-204504: looking up user records for 81 handles.\n",
      "20191130-204505:  users pulled:  381\n",
      "total failures: 0\n"
     ]
    }
   ],
   "source": [
    "# Lookup the full information on users. \n",
    "user_id = []\n",
    "\n",
    "# Code from John - All records will be a dictionary with the twitter ID as the key and \n",
    "# a UserRecord as the value. This creates a named tuple. \n",
    "all_records = lookup_users_from_handles(api,users)"
   ]
  },
  {
   "cell_type": "code",
   "execution_count": 5,
   "metadata": {},
   "outputs": [],
   "source": [
    "# Write out all the records. Functions from John to help.\n",
    "with open(ofile_name,'w') as ofile :\n",
    "    write_user_rec_headers(ofile)\n",
    "    for id, rec in all_records.items() :\n",
    "        write_user_rec(ofile, rec)"
   ]
  },
  {
   "cell_type": "code",
   "execution_count": 6,
   "metadata": {},
   "outputs": [
    {
     "name": "stdout",
     "output_type": "stream",
     "text": [
      "20191130_landtrusts_userobj.txt\n"
     ]
    }
   ],
   "source": [
    "print(ofile_name)"
   ]
  }
 ],
 "metadata": {
  "kernelspec": {
   "display_name": "Python 3",
   "language": "python",
   "name": "python3"
  },
  "language_info": {
   "codemirror_mode": {
    "name": "ipython",
    "version": 3
   },
   "file_extension": ".py",
   "mimetype": "text/x-python",
   "name": "python",
   "nbconvert_exporter": "python",
   "pygments_lexer": "ipython3",
   "version": "3.7.3"
  }
 },
 "nbformat": 4,
 "nbformat_minor": 2
}
